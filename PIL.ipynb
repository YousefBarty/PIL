{
 "cells": [
  {
   "cell_type": "markdown",
   "metadata": {},
   "source": [
    "# Increase Number Of Traning Images"
   ]
  },
  {
   "cell_type": "code",
   "execution_count": 1,
   "metadata": {},
   "outputs": [],
   "source": [
    "from PIL import Image \n"
   ]
  },
  {
   "cell_type": "code",
   "execution_count": 49,
   "metadata": {},
   "outputs": [],
   "source": [
    "cats_Path = 'D:/AI/Deep Learning/Four_Categories_Images_Classifications/seg_train/seg_train/cats/'\n",
    "cars_path='D:/AI/Deep Learning/Four_Categories_Images_Classifications/seg_train/seg_train/cars/'\n",
    "dogs_Path = 'D:/AI/Deep Learning/Four_Categories_Images_Classifications/seg_train/seg_train/dogs/'\n",
    "flowers_Path = 'D:/AI/Deep Learning/Four_Categories_Images_Classifications/seg_train/seg_train/flowers/'"
   ]
  },
  {
   "cell_type": "code",
   "execution_count": 55,
   "metadata": {},
   "outputs": [],
   "source": [
    "def rotateImage(degree,path,floderName):\n",
    "    files = gb.glob(pathname= str( path + '/*.jpg'))\n",
    "    counter=200\n",
    "    for image in files:\n",
    "        counter+=1\n",
    "        name=floderName+str(counter)+\".jpg\"\n",
    "        # open the image\n",
    "        img = Image.open(image)\n",
    "        # rotate and save the image with the same filename\n",
    "        img.rotate(degree).save(path+name)\n",
    "        # close the image\n",
    "        img.close()"
   ]
  },
  {
   "cell_type": "markdown",
   "metadata": {},
   "source": [
    "# 90 degree"
   ]
  },
  {
   "cell_type": "code",
   "execution_count": 11,
   "metadata": {},
   "outputs": [],
   "source": [
    "rotateImage(90,cats_Path,\"cat\")"
   ]
  },
  {
   "cell_type": "code",
   "execution_count": 11,
   "metadata": {},
   "outputs": [],
   "source": [
    "rotateImage(90,cars_path,\"car\")"
   ]
  },
  {
   "cell_type": "code",
   "execution_count": null,
   "metadata": {},
   "outputs": [],
   "source": [
    "rotateImage(90,dogs_Path,\"dog\")"
   ]
  },
  {
   "cell_type": "code",
   "execution_count": null,
   "metadata": {},
   "outputs": [],
   "source": [
    "rotateImage(90,flowers_Path,\"flower\")"
   ]
  },
  {
   "cell_type": "markdown",
   "metadata": {},
   "source": [
    "# 125 degree"
   ]
  },
  {
   "cell_type": "code",
   "execution_count": 11,
   "metadata": {},
   "outputs": [],
   "source": [
    "rotateImage(125,cats_Path,\"cat\")"
   ]
  },
  {
   "cell_type": "code",
   "execution_count": 11,
   "metadata": {},
   "outputs": [],
   "source": [
    "rotateImage(125,cars_path,\"car\")"
   ]
  },
  {
   "cell_type": "code",
   "execution_count": null,
   "metadata": {},
   "outputs": [],
   "source": [
    "rotateImage(125,dogs_Path,\"dog\")"
   ]
  },
  {
   "cell_type": "code",
   "execution_count": null,
   "metadata": {},
   "outputs": [],
   "source": [
    "rotateImage(125,flowers_Path,\"flower\")"
   ]
  }
 ],
 "metadata": {
  "kernelspec": {
   "display_name": "Python 3",
   "language": "python",
   "name": "python3"
  },
  "language_info": {
   "codemirror_mode": {
    "name": "ipython",
    "version": 3
   },
   "file_extension": ".py",
   "mimetype": "text/x-python",
   "name": "python",
   "nbconvert_exporter": "python",
   "pygments_lexer": "ipython3",
   "version": "3.8.5"
  }
 },
 "nbformat": 4,
 "nbformat_minor": 4
}
